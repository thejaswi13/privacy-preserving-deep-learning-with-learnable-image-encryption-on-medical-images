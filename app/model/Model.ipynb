{
 "cells": [
  {
   "cell_type": "code",
   "execution_count": 1,
   "metadata": {
    "execution": {
     "iopub.execute_input": "2025-01-28T16:04:32.847508Z",
     "iopub.status.busy": "2025-01-28T16:04:32.847323Z",
     "iopub.status.idle": "2025-01-28T16:04:46.537836Z",
     "shell.execute_reply": "2025-01-28T16:04:46.537128Z",
     "shell.execute_reply.started": "2025-01-28T16:04:32.847490Z"
    },
    "trusted": true
   },
   "outputs": [],
   "source": [
    "import os\n",
    "import numpy as np\n",
    "import tensorflow as tf\n",
    "from sklearn.model_selection import train_test_split\n",
    "from tensorflow.keras.preprocessing.image import ImageDataGenerator\n",
    "from tensorflow.keras.applications import DenseNet121, Xception\n",
    "from tensorflow.keras.models import Sequential\n",
    "from tensorflow.keras.layers import Dense, GlobalAveragePooling2D\n",
    "from tensorflow.keras.optimizers import SGD\n",
    "from tensorflow.keras.callbacks import ModelCheckpoint, EarlyStopping\n",
    "from tensorflow.keras.preprocessing.image import load_img, img_to_array\n",
    "from glob import glob"
   ]
  },
  {
   "cell_type": "code",
   "execution_count": 3,
   "metadata": {
    "execution": {
     "iopub.execute_input": "2025-01-28T16:06:11.325515Z",
     "iopub.status.busy": "2025-01-28T16:06:11.325224Z",
     "iopub.status.idle": "2025-01-28T16:06:11.329446Z",
     "shell.execute_reply": "2025-01-28T16:06:11.328386Z",
     "shell.execute_reply.started": "2025-01-28T16:06:11.325493Z"
    },
    "trusted": true
   },
   "outputs": [],
   "source": [
    "# Paths to the dataset\n",
    "DATASET_PATH = \"/kaggle/input/brain-tumor-detection-mri/Brain_Tumor_Detection\"\n",
    "NO_PATH = os.path.join(DATASET_PATH, \"no\")\n",
    "YES_PATH = os.path.join(DATASET_PATH, \"yes\")"
   ]
  },
  {
   "cell_type": "code",
   "execution_count": 10,
   "metadata": {
    "execution": {
     "iopub.execute_input": "2025-01-28T16:07:58.694910Z",
     "iopub.status.busy": "2025-01-28T16:07:58.694609Z",
     "iopub.status.idle": "2025-01-28T16:07:58.698670Z",
     "shell.execute_reply": "2025-01-28T16:07:58.697789Z",
     "shell.execute_reply.started": "2025-01-28T16:07:58.694890Z"
    },
    "trusted": true
   },
   "outputs": [],
   "source": [
    "# Parameters\n",
    "IMG_SIZE = 256\n",
    "BATCH_SIZE = 32\n",
    "EPOCHS = 5\n",
    "LR = 0.01"
   ]
  },
  {
   "cell_type": "code",
   "execution_count": 5,
   "metadata": {
    "execution": {
     "iopub.execute_input": "2025-01-28T16:06:29.164282Z",
     "iopub.status.busy": "2025-01-28T16:06:29.163978Z",
     "iopub.status.idle": "2025-01-28T16:06:29.168845Z",
     "shell.execute_reply": "2025-01-28T16:06:29.168013Z",
     "shell.execute_reply.started": "2025-01-28T16:06:29.164258Z"
    },
    "trusted": true
   },
   "outputs": [],
   "source": [
    "# Helper function to load data and labels\n",
    "def load_data_and_labels():\n",
    "    images = []\n",
    "    labels = []\n",
    "    \n",
    "    # Load images from 'no' and 'yes' folders\n",
    "    for label, folder in enumerate([NO_PATH, YES_PATH]):\n",
    "        for file in glob(os.path.join(folder, \"*.jpg\")):\n",
    "            img = load_img(file, target_size=(IMG_SIZE, IMG_SIZE))\n",
    "            img = img_to_array(img) / 255.0\n",
    "            images.append(img)\n",
    "            labels.append(label)\n",
    "    \n",
    "    return np.array(images), np.array(labels)"
   ]
  },
  {
   "cell_type": "code",
   "execution_count": 6,
   "metadata": {
    "execution": {
     "iopub.execute_input": "2025-01-28T16:06:41.798409Z",
     "iopub.status.busy": "2025-01-28T16:06:41.798118Z",
     "iopub.status.idle": "2025-01-28T16:07:13.338201Z",
     "shell.execute_reply": "2025-01-28T16:07:13.337477Z",
     "shell.execute_reply.started": "2025-01-28T16:06:41.798388Z"
    },
    "trusted": true
   },
   "outputs": [],
   "source": [
    "# Load data and split into train, validation, and test sets\n",
    "X, y = load_data_and_labels()\n",
    "X_train, X_temp, y_train, y_temp = train_test_split(X, y, test_size=0.3, stratify=y, random_state=42)\n",
    "X_val, X_test, y_val, y_test = train_test_split(X_temp, y_temp, test_size=0.5, stratify=y_temp, random_state=42)"
   ]
  },
  {
   "cell_type": "code",
   "execution_count": 7,
   "metadata": {
    "execution": {
     "iopub.execute_input": "2025-01-28T16:07:20.783695Z",
     "iopub.status.busy": "2025-01-28T16:07:20.783372Z",
     "iopub.status.idle": "2025-01-28T16:07:20.788103Z",
     "shell.execute_reply": "2025-01-28T16:07:20.787150Z",
     "shell.execute_reply.started": "2025-01-28T16:07:20.783654Z"
    },
    "trusted": true
   },
   "outputs": [],
   "source": [
    "# Data Augmentation\n",
    "train_datagen = ImageDataGenerator(\n",
    "    rotation_range=20,\n",
    "    width_shift_range=0.2,\n",
    "    height_shift_range=0.2,\n",
    "    horizontal_flip=True\n",
    ")\n",
    "\n",
    "train_generator = train_datagen.flow(X_train, y_train, batch_size=BATCH_SIZE)\n",
    "val_generator = ImageDataGenerator().flow(X_val, y_val, batch_size=BATCH_SIZE)\n",
    "test_generator = ImageDataGenerator().flow(X_test, y_test, batch_size=BATCH_SIZE)"
   ]
  },
  {
   "cell_type": "code",
   "execution_count": 8,
   "metadata": {
    "execution": {
     "iopub.execute_input": "2025-01-28T16:07:29.320065Z",
     "iopub.status.busy": "2025-01-28T16:07:29.319766Z",
     "iopub.status.idle": "2025-01-28T16:07:29.323928Z",
     "shell.execute_reply": "2025-01-28T16:07:29.323195Z",
     "shell.execute_reply.started": "2025-01-28T16:07:29.320044Z"
    },
    "trusted": true
   },
   "outputs": [],
   "source": [
    "# Model Builder Function\n",
    "def build_model(base_model):\n",
    "    model = Sequential([\n",
    "        base_model,\n",
    "        GlobalAveragePooling2D(),\n",
    "        Dense(128, activation='relu'),\n",
    "        Dense(1, activation='sigmoid')  # Binary classification\n",
    "    ])\n",
    "    return model"
   ]
  },
  {
   "cell_type": "code",
   "execution_count": 9,
   "metadata": {
    "execution": {
     "iopub.execute_input": "2025-01-28T16:07:36.355510Z",
     "iopub.status.busy": "2025-01-28T16:07:36.355208Z",
     "iopub.status.idle": "2025-01-28T16:07:41.239409Z",
     "shell.execute_reply": "2025-01-28T16:07:41.238761Z",
     "shell.execute_reply.started": "2025-01-28T16:07:36.355484Z"
    },
    "trusted": true
   },
   "outputs": [
    {
     "name": "stdout",
     "output_type": "stream",
     "text": [
      "Downloading data from https://storage.googleapis.com/tensorflow/keras-applications/densenet/densenet121_weights_tf_dim_ordering_tf_kernels_notop.h5\n",
      "\u001b[1m29084464/29084464\u001b[0m \u001b[32m━━━━━━━━━━━━━━━━━━━━\u001b[0m\u001b[37m\u001b[0m \u001b[1m0s\u001b[0m 0us/step\n"
     ]
    }
   ],
   "source": [
    "# DenseNet-121 Model\n",
    "densenet_base = DenseNet121(weights='imagenet', include_top=False, input_shape=(IMG_SIZE, IMG_SIZE, 3))\n",
    "densenet_model = build_model(densenet_base)"
   ]
  },
  {
   "cell_type": "code",
   "execution_count": 11,
   "metadata": {
    "execution": {
     "iopub.execute_input": "2025-01-28T16:08:07.827059Z",
     "iopub.status.busy": "2025-01-28T16:08:07.826747Z",
     "iopub.status.idle": "2025-01-28T16:08:09.256252Z",
     "shell.execute_reply": "2025-01-28T16:08:09.255574Z",
     "shell.execute_reply.started": "2025-01-28T16:08:07.827035Z"
    },
    "trusted": true
   },
   "outputs": [
    {
     "name": "stdout",
     "output_type": "stream",
     "text": [
      "Downloading data from https://storage.googleapis.com/tensorflow/keras-applications/xception/xception_weights_tf_dim_ordering_tf_kernels_notop.h5\n",
      "\u001b[1m83683744/83683744\u001b[0m \u001b[32m━━━━━━━━━━━━━━━━━━━━\u001b[0m\u001b[37m\u001b[0m \u001b[1m0s\u001b[0m 0us/step\n"
     ]
    }
   ],
   "source": [
    "# Xception Model\n",
    "xception_base = Xception(weights='imagenet', include_top=False, input_shape=(IMG_SIZE, IMG_SIZE, 3))\n",
    "xception_model = build_model(xception_base)"
   ]
  },
  {
   "cell_type": "code",
   "execution_count": 12,
   "metadata": {
    "execution": {
     "iopub.execute_input": "2025-01-28T16:08:18.527175Z",
     "iopub.status.busy": "2025-01-28T16:08:18.526885Z",
     "iopub.status.idle": "2025-01-28T16:08:18.543320Z",
     "shell.execute_reply": "2025-01-28T16:08:18.542620Z",
     "shell.execute_reply.started": "2025-01-28T16:08:18.527155Z"
    },
    "trusted": true
   },
   "outputs": [],
   "source": [
    "# Compile Models\n",
    "optimizer = SGD(learning_rate=LR, momentum=0.9)\n",
    "densenet_model.compile(optimizer=optimizer, loss='binary_crossentropy', metrics=['accuracy'])\n",
    "xception_model.compile(optimizer=optimizer, loss='binary_crossentropy', metrics=['accuracy'])"
   ]
  },
  {
   "cell_type": "code",
   "execution_count": 14,
   "metadata": {
    "execution": {
     "iopub.execute_input": "2025-01-28T16:08:42.658474Z",
     "iopub.status.busy": "2025-01-28T16:08:42.658180Z",
     "iopub.status.idle": "2025-01-28T16:08:42.662378Z",
     "shell.execute_reply": "2025-01-28T16:08:42.661520Z",
     "shell.execute_reply.started": "2025-01-28T16:08:42.658453Z"
    },
    "trusted": true
   },
   "outputs": [],
   "source": [
    "# Callbacks\n",
    "callbacks = [\n",
    "    EarlyStopping(monitor='val_loss', patience=5, restore_best_weights=True),\n",
    "    ModelCheckpoint(\"best_model_densenet.keras\", save_best_only=True, monitor='val_loss', mode='min')\n",
    "]"
   ]
  },
  {
   "cell_type": "code",
   "execution_count": 15,
   "metadata": {
    "execution": {
     "iopub.execute_input": "2025-01-28T16:08:56.395450Z",
     "iopub.status.busy": "2025-01-28T16:08:56.395156Z",
     "iopub.status.idle": "2025-01-28T16:15:02.277500Z",
     "shell.execute_reply": "2025-01-28T16:15:02.276771Z",
     "shell.execute_reply.started": "2025-01-28T16:08:56.395428Z"
    },
    "trusted": true
   },
   "outputs": [
    {
     "name": "stdout",
     "output_type": "stream",
     "text": [
      "Training DenseNet-121...\n",
      "Epoch 1/5\n"
     ]
    },
    {
     "name": "stderr",
     "output_type": "stream",
     "text": [
      "/usr/local/lib/python3.10/dist-packages/keras/src/trainers/data_adapters/py_dataset_adapter.py:122: UserWarning: Your `PyDataset` class should call `super().__init__(**kwargs)` in its constructor. `**kwargs` can include `workers`, `use_multiprocessing`, `max_queue_size`. Do not pass these arguments to `fit()`, as they will be ignored.\n",
      "  self._warn_if_super_not_called()\n"
     ]
    },
    {
     "name": "stdout",
     "output_type": "stream",
     "text": [
      "\u001b[1m66/66\u001b[0m \u001b[32m━━━━━━━━━━━━━━━━━━━━\u001b[0m\u001b[37m\u001b[0m \u001b[1m245s\u001b[0m 2s/step - accuracy: 0.7971 - loss: 0.3855 - val_accuracy: 0.5267 - val_loss: 7.1820\n",
      "Epoch 2/5\n",
      "\u001b[1m66/66\u001b[0m \u001b[32m━━━━━━━━━━━━━━━━━━━━\u001b[0m\u001b[37m\u001b[0m \u001b[1m30s\u001b[0m 412ms/step - accuracy: 0.9618 - loss: 0.1076 - val_accuracy: 0.8822 - val_loss: 0.5103\n",
      "Epoch 3/5\n",
      "\u001b[1m66/66\u001b[0m \u001b[32m━━━━━━━━━━━━━━━━━━━━\u001b[0m\u001b[37m\u001b[0m \u001b[1m30s\u001b[0m 415ms/step - accuracy: 0.9811 - loss: 0.0610 - val_accuracy: 0.9867 - val_loss: 0.0414\n",
      "Epoch 4/5\n",
      "\u001b[1m66/66\u001b[0m \u001b[32m━━━━━━━━━━━━━━━━━━━━\u001b[0m\u001b[37m\u001b[0m \u001b[1m29s\u001b[0m 402ms/step - accuracy: 0.9915 - loss: 0.0278 - val_accuracy: 0.9689 - val_loss: 0.0745\n",
      "Epoch 5/5\n",
      "\u001b[1m66/66\u001b[0m \u001b[32m━━━━━━━━━━━━━━━━━━━━\u001b[0m\u001b[37m\u001b[0m \u001b[1m29s\u001b[0m 400ms/step - accuracy: 0.9923 - loss: 0.0283 - val_accuracy: 0.9800 - val_loss: 0.0576\n"
     ]
    }
   ],
   "source": [
    "# Train DenseNet-121\n",
    "print(\"Training DenseNet-121...\")\n",
    "densenet_history = densenet_model.fit(\n",
    "    train_generator,\n",
    "    validation_data=val_generator,\n",
    "    epochs=EPOCHS,\n",
    "    callbacks=callbacks\n",
    ")"
   ]
  },
  {
   "cell_type": "code",
   "execution_count": 16,
   "metadata": {
    "execution": {
     "iopub.execute_input": "2025-01-28T16:15:26.149961Z",
     "iopub.status.busy": "2025-01-28T16:15:26.149578Z",
     "iopub.status.idle": "2025-01-28T16:15:27.794188Z",
     "shell.execute_reply": "2025-01-28T16:15:27.793378Z",
     "shell.execute_reply.started": "2025-01-28T16:15:26.149933Z"
    },
    "trusted": true
   },
   "outputs": [
    {
     "name": "stdout",
     "output_type": "stream",
     "text": [
      "DenseNet-121 training completed and model saved.\n"
     ]
    }
   ],
   "source": [
    "# Save DenseNet-121 Model\n",
    "densenet_model.save(\"densenet121_model.keras\")\n",
    "print(\"DenseNet-121 training completed and model saved.\")"
   ]
  },
  {
   "cell_type": "code",
   "execution_count": 18,
   "metadata": {
    "execution": {
     "iopub.execute_input": "2025-01-28T16:16:01.284993Z",
     "iopub.status.busy": "2025-01-28T16:16:01.284656Z",
     "iopub.status.idle": "2025-01-28T16:16:02.731782Z",
     "shell.execute_reply": "2025-01-28T16:16:02.731067Z",
     "shell.execute_reply.started": "2025-01-28T16:16:01.284970Z"
    },
    "trusted": true
   },
   "outputs": [
    {
     "name": "stdout",
     "output_type": "stream",
     "text": [
      "Evaluating DenseNet-121 on test data...\n",
      "\u001b[1m15/15\u001b[0m \u001b[32m━━━━━━━━━━━━━━━━━━━━\u001b[0m\u001b[37m\u001b[0m \u001b[1m1s\u001b[0m 85ms/step - accuracy: 0.9671 - loss: 0.0734\n",
      "DenseNet-121 Test Accuracy: 97.33%\n"
     ]
    }
   ],
   "source": [
    "# Evaluate on Test Data\n",
    "print(\"Evaluating DenseNet-121 on test data...\")\n",
    "densenet_eval = densenet_model.evaluate(test_generator)\n",
    "print(f\"DenseNet-121 Test Accuracy: {densenet_eval[1] * 100:.2f}%\")"
   ]
  },
  {
   "cell_type": "code",
   "execution_count": 24,
   "metadata": {
    "execution": {
     "iopub.execute_input": "2025-01-28T16:21:12.444239Z",
     "iopub.status.busy": "2025-01-28T16:21:12.443929Z",
     "iopub.status.idle": "2025-01-28T16:21:12.452967Z",
     "shell.execute_reply": "2025-01-28T16:21:12.452210Z",
     "shell.execute_reply.started": "2025-01-28T16:21:12.444214Z"
    },
    "trusted": true
   },
   "outputs": [],
   "source": [
    "# Reinitialize optimizer for Xception\n",
    "xception_optimizer = SGD(learning_rate=LR, momentum=0.9)\n",
    "xception_model.compile(optimizer=xception_optimizer, loss='binary_crossentropy', metrics=['accuracy'])\n",
    "\n",
    "# Update ModelCheckpoint for Xception\n",
    "callbacks = [\n",
    "    EarlyStopping(monitor='val_loss', patience=5, restore_best_weights=True),\n",
    "    ModelCheckpoint(\"best_model_xception.keras\", save_best_only=True, monitor='val_loss', mode='min')\n",
    "]"
   ]
  },
  {
   "cell_type": "code",
   "execution_count": 25,
   "metadata": {
    "execution": {
     "iopub.execute_input": "2025-01-28T16:23:17.701454Z",
     "iopub.status.busy": "2025-01-28T16:23:17.701155Z",
     "iopub.status.idle": "2025-01-28T16:28:12.566920Z",
     "shell.execute_reply": "2025-01-28T16:28:12.566116Z",
     "shell.execute_reply.started": "2025-01-28T16:23:17.701432Z"
    },
    "trusted": true
   },
   "outputs": [
    {
     "name": "stdout",
     "output_type": "stream",
     "text": [
      "Training Xception...\n",
      "Epoch 1/5\n",
      "\u001b[1m66/66\u001b[0m \u001b[32m━━━━━━━━━━━━━━━━━━━━\u001b[0m\u001b[37m\u001b[0m \u001b[1m123s\u001b[0m 1s/step - accuracy: 0.7026 - loss: 0.5405 - val_accuracy: 0.9600 - val_loss: 0.1078\n",
      "Epoch 2/5\n",
      "\u001b[1m66/66\u001b[0m \u001b[32m━━━━━━━━━━━━━━━━━━━━\u001b[0m\u001b[37m\u001b[0m \u001b[1m42s\u001b[0m 593ms/step - accuracy: 0.9725 - loss: 0.0765 - val_accuracy: 0.9333 - val_loss: 0.1683\n",
      "Epoch 3/5\n",
      "\u001b[1m66/66\u001b[0m \u001b[32m━━━━━━━━━━━━━━━━━━━━\u001b[0m\u001b[37m\u001b[0m \u001b[1m42s\u001b[0m 596ms/step - accuracy: 0.9857 - loss: 0.0408 - val_accuracy: 0.9778 - val_loss: 0.0512\n",
      "Epoch 4/5\n",
      "\u001b[1m66/66\u001b[0m \u001b[32m━━━━━━━━━━━━━━━━━━━━\u001b[0m\u001b[37m\u001b[0m \u001b[1m43s\u001b[0m 606ms/step - accuracy: 0.9940 - loss: 0.0206 - val_accuracy: 0.9844 - val_loss: 0.0394\n",
      "Epoch 5/5\n",
      "\u001b[1m66/66\u001b[0m \u001b[32m━━━━━━━━━━━━━━━━━━━━\u001b[0m\u001b[37m\u001b[0m \u001b[1m43s\u001b[0m 602ms/step - accuracy: 0.9962 - loss: 0.0129 - val_accuracy: 0.9933 - val_loss: 0.0158\n"
     ]
    }
   ],
   "source": [
    "# Train Xception\n",
    "print(\"Training Xception...\")\n",
    "xception_history = xception_model.fit(\n",
    "    train_generator,\n",
    "    validation_data=val_generator,\n",
    "    epochs=EPOCHS,\n",
    "    callbacks=callbacks\n",
    ")"
   ]
  },
  {
   "cell_type": "code",
   "execution_count": 26,
   "metadata": {
    "execution": {
     "iopub.execute_input": "2025-01-28T16:32:04.408629Z",
     "iopub.status.busy": "2025-01-28T16:32:04.408224Z",
     "iopub.status.idle": "2025-01-28T16:32:05.315178Z",
     "shell.execute_reply": "2025-01-28T16:32:05.314313Z",
     "shell.execute_reply.started": "2025-01-28T16:32:04.408602Z"
    },
    "trusted": true
   },
   "outputs": [
    {
     "name": "stdout",
     "output_type": "stream",
     "text": [
      "Xception training completed and model saved.\n"
     ]
    }
   ],
   "source": [
    "# Save Xception Model\n",
    "xception_model.save(\"xception_model.keras\")\n",
    "print(\"Xception training completed and model saved.\")"
   ]
  },
  {
   "cell_type": "code",
   "execution_count": 27,
   "metadata": {
    "execution": {
     "iopub.execute_input": "2025-01-28T16:32:08.789258Z",
     "iopub.status.busy": "2025-01-28T16:32:08.788979Z",
     "iopub.status.idle": "2025-01-28T16:32:11.022890Z",
     "shell.execute_reply": "2025-01-28T16:32:11.021996Z",
     "shell.execute_reply.started": "2025-01-28T16:32:08.789237Z"
    },
    "trusted": true
   },
   "outputs": [
    {
     "name": "stdout",
     "output_type": "stream",
     "text": [
      "Evaluating Xception on test data...\n",
      "\u001b[1m15/15\u001b[0m \u001b[32m━━━━━━━━━━━━━━━━━━━━\u001b[0m\u001b[37m\u001b[0m \u001b[1m2s\u001b[0m 136ms/step - accuracy: 0.9924 - loss: 0.0148\n",
      "Xception Test Accuracy: 99.11%\n"
     ]
    }
   ],
   "source": [
    "print(\"Evaluating Xception on test data...\")\n",
    "xception_eval = xception_model.evaluate(test_generator)\n",
    "print(f\"Xception Test Accuracy: {xception_eval[1] * 100:.2f}%\")"
   ]
  },
  {
   "cell_type": "code",
   "execution_count": 1,
   "metadata": {
    "execution": {
     "iopub.execute_input": "2025-01-28T16:40:11.730550Z",
     "iopub.status.busy": "2025-01-28T16:40:11.730231Z",
     "iopub.status.idle": "2025-01-28T16:40:24.995388Z",
     "shell.execute_reply": "2025-01-28T16:40:24.994549Z",
     "shell.execute_reply.started": "2025-01-28T16:40:11.730523Z"
    },
    "trusted": true
   },
   "outputs": [
    {
     "name": "stdout",
     "output_type": "stream",
     "text": [
      "\u001b[1m1/1\u001b[0m \u001b[32m━━━━━━━━━━━━━━━━━━━━\u001b[0m\u001b[37m\u001b[0m \u001b[1m12s\u001b[0m 12s/step\n",
      "\u001b[1m1/1\u001b[0m \u001b[32m━━━━━━━━━━━━━━━━━━━━\u001b[0m\u001b[37m\u001b[0m \u001b[1m3s\u001b[0m 3s/step\n",
      "Model: DenseNet-121\n",
      "  Prediction: No Tumor\n",
      "  Confidence: 0.00\n",
      "\n",
      "Model: Xception\n",
      "  Prediction: No Tumor\n",
      "  Confidence: 0.00\n",
      "\n"
     ]
    }
   ],
   "source": [
    "import numpy as np\n",
    "import tensorflow as tf\n",
    "from tensorflow.keras.preprocessing.image import load_img, img_to_array\n",
    "\n",
    "# Paths to the saved models\n",
    "DENSENET_MODEL_PATH = \"densenet121_model.keras\"\n",
    "XCEPTION_MODEL_PATH = \"xception_model.keras\"\n",
    "\n",
    "# Load the saved models\n",
    "densenet_model = tf.keras.models.load_model(DENSENET_MODEL_PATH)\n",
    "xception_model = tf.keras.models.load_model(XCEPTION_MODEL_PATH)\n",
    "\n",
    "# Image preprocessing function\n",
    "def preprocess_image(image_path, target_size=(256, 256)):\n",
    "    \"\"\"\n",
    "    Preprocess the input image for prediction.\n",
    "    Args:\n",
    "        image_path (str): Path to the image.\n",
    "        target_size (tuple): Target size for resizing the image.\n",
    "\n",
    "    Returns:\n",
    "        np.array: Preprocessed image array.\n",
    "    \"\"\"\n",
    "    img = load_img(image_path, target_size=target_size)\n",
    "    img_array = img_to_array(img) / 255.0  # Normalize to [0, 1]\n",
    "    img_array = np.expand_dims(img_array, axis=0)  # Add batch dimension\n",
    "    return img_array\n",
    "\n",
    "# Prediction function\n",
    "def predict_custom_image(image_path):\n",
    "    \"\"\"\n",
    "    Predict the class of the image using both models.\n",
    "\n",
    "    Args:\n",
    "        image_path (str): Path to the image.\n",
    "\n",
    "    Returns:\n",
    "        dict: Predictions from both models.\n",
    "    \"\"\"\n",
    "    # Preprocess the image\n",
    "    img_array = preprocess_image(image_path)\n",
    "\n",
    "    # Predict using DenseNet-121\n",
    "    densenet_prediction = densenet_model.predict(img_array)\n",
    "    densenet_result = \"Tumor\" if densenet_prediction[0][0] > 0.5 else \"No Tumor\"\n",
    "\n",
    "    # Predict using Xception\n",
    "    xception_prediction = xception_model.predict(img_array)\n",
    "    xception_result = \"Tumor\" if xception_prediction[0][0] > 0.5 else \"No Tumor\"\n",
    "\n",
    "    # Combine results\n",
    "    predictions = {\n",
    "        \"DenseNet-121\": {\"Prediction\": densenet_result, \"Confidence\": densenet_prediction[0][0]},\n",
    "        \"Xception\": {\"Prediction\": xception_result, \"Confidence\": xception_prediction[0][0]}\n",
    "    }\n",
    "    return predictions\n",
    "\n",
    "# Example usage\n",
    "custom_image_path = r\"Brain_Tumor_Detection\\pred\\pred3.jpg\"  \n",
    "results = predict_custom_image(custom_image_path)\n",
    "\n",
    "# Display results\n",
    "for model, result in results.items():\n",
    "    print(f\"Model: {model}\")\n",
    "    print(f\"  Prediction: {result['Prediction']}\")\n",
    "    print(f\"  Confidence: {result['Confidence']:.2f}\")\n",
    "    print()"
   ]
  },
  {
   "cell_type": "code",
   "execution_count": null,
   "metadata": {},
   "outputs": [],
   "source": []
  },
  {
   "cell_type": "code",
   "execution_count": null,
   "metadata": {},
   "outputs": [],
   "source": []
  }
 ],
 "metadata": {
  "kaggle": {
   "accelerator": "nvidiaTeslaT4",
   "dataSources": [
    {
     "datasetId": 1194525,
     "sourceId": 1997093,
     "sourceType": "datasetVersion"
    }
   ],
   "dockerImageVersionId": 30840,
   "isGpuEnabled": true,
   "isInternetEnabled": true,
   "language": "python",
   "sourceType": "notebook"
  },
  "kernelspec": {
   "display_name": "Python 3",
   "language": "python",
   "name": "python3"
  },
  "language_info": {
   "codemirror_mode": {
    "name": "ipython",
    "version": 3
   },
   "file_extension": ".py",
   "mimetype": "text/x-python",
   "name": "python",
   "nbconvert_exporter": "python",
   "pygments_lexer": "ipython3",
   "version": "3.11.0"
  }
 },
 "nbformat": 4,
 "nbformat_minor": 4
}
